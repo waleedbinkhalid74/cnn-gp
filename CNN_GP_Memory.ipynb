{
 "cells": [
  {
   "cell_type": "markdown",
   "metadata": {},
   "source": [
    "# Useful Imports"
   ]
  },
  {
   "cell_type": "code",
   "execution_count": 1,
   "metadata": {},
   "outputs": [
    {
     "name": "stderr",
     "output_type": "stream",
     "text": [
      "c:\\Users\\walee\\AppData\\Local\\Programs\\Python\\Python310\\lib\\site-packages\\tqdm\\auto.py:22: TqdmWarning: IProgress not found. Please update jupyter and ipywidgets. See https://ipywidgets.readthedocs.io/en/stable/user_install.html\n",
      "  from .autonotebook import tqdm as notebook_tqdm\n"
     ]
    }
   ],
   "source": [
    "from KernelFlow import KernelFlowsCNNGP\n",
    "from torchvision import datasets, transforms\n",
    "import torch\n",
    "import torch.nn.functional as F\n",
    "import numpy as np\n",
    "from utils import get_accuracy\n",
    "import matplotlib.pyplot as plt\n",
    "from torchvision import datasets, transforms\n",
    "import torchvision.transforms as T\n",
    "from torch import nn\n",
    "import psutil\n",
    "import time\n",
    "from cnn_gp import Sequential, Conv2d, ReLU, resnet_block\n",
    "from tqdm import tqdm\n",
    "from scipy.linalg import lstsq\n",
    "from sklearn.metrics import accuracy_score\n",
    "%load_ext autoreload\n",
    "%autoreload 2"
   ]
  },
  {
   "cell_type": "markdown",
   "metadata": {},
   "source": [
    "# Global parameters"
   ]
  },
  {
   "cell_type": "code",
   "execution_count": 2,
   "metadata": {},
   "outputs": [
    {
     "data": {
      "text/plain": [
       "device(type='cuda')"
      ]
     },
     "execution_count": 2,
     "metadata": {},
     "output_type": "execute_result"
    }
   ],
   "source": [
    "device = torch.device('cuda' if torch.cuda.is_available() else 'cpu')\n",
    "device"
   ]
  },
  {
   "cell_type": "markdown",
   "metadata": {},
   "source": [
    "# Dataset"
   ]
  },
  {
   "cell_type": "code",
   "execution_count": 3,
   "metadata": {},
   "outputs": [],
   "source": [
    "transform = transforms.Compose([transforms.ToTensor(),\n",
    "                                T.Lambda(lambda x: torch.flatten(x)),\n",
    "                                T.Lambda(lambda x: nn.functional.normalize(x, p=2, dim=0)),\n",
    "                                T.Lambda(lambda x: torch.reshape(x, (28,28))),\n",
    "                                T.Lambda(lambda x: torch.unsqueeze(x, dim=0))\n",
    "                              ])\n",
    "\n",
    "# transform = transforms.Compose([transforms.ToTensor()])\n",
    "\n",
    "batch_size = 50000\n",
    "val_size = 1000\n",
    "N_I = 1000\n",
    "\n",
    "# MNIST\n",
    "trainset = datasets.MNIST('MNIST_dataset/train', download=True, train=True, transform=transform)\n",
    "valset = datasets.MNIST('MNIST_dataset/val', download=True, train=False, transform=transform)\n",
    "trainloader = torch.utils.data.DataLoader(trainset, batch_size=batch_size, shuffle=False)\n",
    "valloader = torch.utils.data.DataLoader(valset, batch_size=val_size, shuffle=False)\n",
    "\n",
    "device = torch.device('cuda' if torch.cuda.is_available() else 'cpu')\n",
    "\n",
    "dataiter = iter(trainloader)\n",
    "X_train, Y_train = dataiter.next()\n",
    "X_train = X_train.to(device)\n",
    "Y_train = Y_train.to(device)\n",
    "Y_train = F.one_hot(Y_train, 10).to(torch.float32)\n",
    "\n",
    "dataiter_val = iter(valloader)\n",
    "X_test, Y_test = dataiter_val.next()\n",
    "X_test = X_test.to(device)\n",
    "Y_test = Y_test.to(device)"
   ]
  },
  {
   "cell_type": "markdown",
   "metadata": {},
   "source": [
    "# Model"
   ]
  },
  {
   "cell_type": "code",
   "execution_count": 4,
   "metadata": {},
   "outputs": [
    {
     "data": {
      "text/plain": [
       "Sequential(\n",
       "  (0): Conv2d()\n",
       "  (1): ReLU()\n",
       "  (2): Conv2d()\n",
       "  (3): ReLU()\n",
       "  (4): Conv2d()\n",
       ")"
      ]
     },
     "execution_count": 4,
     "metadata": {},
     "output_type": "execute_result"
    }
   ],
   "source": [
    "model_untrained = Sequential(\n",
    "        Conv2d(kernel_size=3),\n",
    "        ReLU(),\n",
    "        Conv2d(kernel_size=3, stride=2),\n",
    "        ReLU(),\n",
    "        Conv2d(kernel_size=14, padding=0),  # equivalent to a dense layer\n",
    "        )\n",
    "\n",
    "model_untrained.to(device)\n",
    "\n",
    "# var_bias = 7.86\n",
    "# var_weight = 2.79\n",
    "\n",
    "# layers = []\n",
    "# for _ in range(7):  # n_layers\n",
    "#     layers += [\n",
    "#         Conv2d(kernel_size=7, padding=\"same\", var_weight=var_weight * 7**2,\n",
    "#                var_bias=var_bias),\n",
    "#         ReLU(),\n",
    "#     ]\n",
    "# covnet = Sequential(\n",
    "#     *layers,\n",
    "#     Conv2d(kernel_size=28, padding=0, var_weight=var_weight,\n",
    "#            var_bias=var_bias),\n",
    "# )\n",
    "\n",
    "# covnet.to(device)"
   ]
  },
  {
   "cell_type": "code",
   "execution_count": 6,
   "metadata": {},
   "outputs": [
    {
     "name": "stdout",
     "output_type": "stream",
     "text": [
      "-0.266215424\n"
     ]
    }
   ],
   "source": [
    "start_usage = psutil.virtual_memory()\n",
    "with torch.no_grad():\n",
    "# covnet_result = covnet(X_train[:200], X_train[:200])\n",
    "    covnet_result = model_untrained(X_train[:400], X_train[:400])\n",
    "end_usage = psutil.virtual_memory()\n",
    "print((end_usage.used - start_usage.used) / 1e9)\n",
    "del covnet_result"
   ]
  },
  {
   "cell_type": "code",
   "execution_count": null,
   "metadata": {},
   "outputs": [],
   "source": []
  },
  {
   "cell_type": "markdown",
   "metadata": {},
   "source": [
    "# Memory usage vs Amount of input data"
   ]
  },
  {
   "cell_type": "code",
   "execution_count": 22,
   "metadata": {},
   "outputs": [
    {
     "data": {
      "image/png": "[encoded data removed]",
      "text/plain": [
       "<Figure size 432x288 with 1 Axes>"
      ]
     },
     "metadata": {
      "needs_background": "light"
     },
     "output_type": "display_data"
    }
   ],
   "source": [
    "fig, ax = plt.subplots(1,1)\n",
    "ax.plot(np.arange(50, 150, 25), [0.58,1.25,2.14,2.93], '-o', label='With custom backprop for ReLU')\n",
    "ax.plot(np.arange(50, 150, 25), [0.14,0.28,0.51,0.76], '-*', label='With torch backprop for ReLU')\n",
    "ax.set_xlabel(\"Number of input images\")\n",
    "ax.set_ylabel(\"RAM used in GBs\")\n",
    "ax.set_title(\"Memory usage vs input size for CovNet CNN_GP\")\n",
    "plt.legend()\n",
    "fig.savefig(\"figs/RAM_usage_ReLU_backprop.png\")"
   ]
  },
  {
   "cell_type": "markdown",
   "metadata": {},
   "source": [
    "# Pretraining Results"
   ]
  },
  {
   "cell_type": "code",
   "execution_count": 5,
   "metadata": {},
   "outputs": [
    {
     "name": "stdout",
     "output_type": "stream",
     "text": [
      "Accuracy with 250 training points on untrained convnet was 74.7\n"
     ]
    }
   ],
   "source": [
    "Y_pred_untrained, k, t= KernelFlowsCNNGP.kernel_regression(X_test=X_test, X_train=X_train[:250], Y_train=Y_train[:250], kernel=model_untrained, regularization_lambda=0.0001, blocksize=250)\n",
    "Y_pred_untrained = np.argmax(Y_pred_untrained.cpu(), axis=1)\n",
    "print(f\"\"\"Accuracy with 250 training points on untrained convnet was {accuracy_score(Y_pred_untrained, Y_test.cpu().numpy()) * 100}\"\"\")"
   ]
  },
  {
   "cell_type": "code",
   "execution_count": 22,
   "metadata": {},
   "outputs": [
    {
     "name": "stderr",
     "output_type": "stream",
     "text": [
      "100%|██████████| 1/1 [00:01<00:00,  1.40s/it]\n",
      "100%|██████████| 1/1 [00:01<00:00,  1.07s/it]\n"
     ]
    },
    {
     "name": "stdout",
     "output_type": "stream",
     "text": [
      "The accuracy with training was:  68.0\n"
     ]
    }
   ],
   "source": [
    "Y_pred_untrained_blocked = KernelFlowsCNNGP.kernel_regression(X_test=X_test, X_train = X_train[:125], Y_train = Y_train[:125].to(torch.float32), kernel = model_untrained, blocksize=100)\n",
    "Y_pred_untrained_blocked = np.argmax(Y_pred_untrained_blocked, axis=1)\n",
    "accuracy_untrained_blocked = get_accuracy(Y_pred_untrained_blocked, Y_test.detach().numpy())\n",
    "print(\"The accuracy with training was: \", accuracy_untrained_blocked)"
   ]
  },
  {
   "cell_type": "markdown",
   "metadata": {},
   "source": [
    "# Training the model"
   ]
  },
  {
   "cell_type": "code",
   "execution_count": 4,
   "metadata": {},
   "outputs": [
    {
     "data": {
      "text/plain": [
       "Sequential(\n",
       "  (0): Conv2d()\n",
       "  (1): ReLU()\n",
       "  (2): Conv2d()\n",
       "  (3): ReLU()\n",
       "  (4): Conv2d()\n",
       ")"
      ]
     },
     "execution_count": 4,
     "metadata": {},
     "output_type": "execute_result"
    }
   ],
   "source": [
    "model_trained = Sequential(\n",
    "        Conv2d(kernel_size=3),\n",
    "        ReLU(),\n",
    "        Conv2d(kernel_size=3, stride=2),\n",
    "        ReLU(),\n",
    "        Conv2d(kernel_size=14, padding=0),  # equivalent to a dense layer\n",
    "        )\n",
    "\n",
    "model_trained.to(device)\n",
    "# var_bias = 7.86\n",
    "# var_weight = 2.79\n",
    "\n",
    "# layers = []\n",
    "# for _ in range(7):  # n_layers\n",
    "#     layers += [\n",
    "#         Conv2d(kernel_size=7, padding=\"same\", var_weight=var_weight * 7**2,\n",
    "#                var_bias=var_bias),\n",
    "#         ReLU(),\n",
    "#     ]\n",
    "\n",
    "# covnet_trained = Sequential(\n",
    "#     *layers,\n",
    "#     Conv2d(kernel_size=28, padding=0, var_weight=var_weight,\n",
    "#            var_bias=var_bias),\n",
    "# )\n",
    "# We already have a saved model\n",
    "# model_trained.load_state_dict(torch.load('models/simple_1000_iter.pth'))"
   ]
  },
  {
   "cell_type": "code",
   "execution_count": 10,
   "metadata": {},
   "outputs": [
    {
     "name": "stderr",
     "output_type": "stream",
     "text": [
      "100%|██████████| 10/10 [00:00<00:00, 34.25it/s]\n"
     ]
    }
   ],
   "source": [
    "KFCNNGP = KernelFlowsCNNGP(cnn_gp_kernel=model_trained)\n",
    "KFCNNGP.fit(X_train, Y_train, 10, 10)"
   ]
  },
  {
   "cell_type": "code",
   "execution_count": 11,
   "metadata": {},
   "outputs": [
    {
     "data": {
      "text/plain": [
       "(0.0, 1.0)"
      ]
     },
     "execution_count": 11,
     "metadata": {},
     "output_type": "execute_result"
    },
    {
     "data": {
      "image/png": "[encoded data removed]",
      "text/plain": [
       "<Figure size 432x288 with 1 Axes>"
      ]
     },
     "metadata": {
      "needs_background": "light"
     },
     "output_type": "display_data"
    }
   ],
   "source": [
    "plt.plot(KFCNNGP.rho_values, '-o')\n",
    "m, b = np.polyfit(np.arange(0, len(KFCNNGP.rho_values)), KFCNNGP.rho_values, 1)\n",
    "plt.plot(np.arange(0, len(KFCNNGP.rho_values)), m*np.arange(0, len(KFCNNGP.rho_values)) + b)\n",
    "plt.ylim((0,1))"
   ]
  },
  {
   "cell_type": "code",
   "execution_count": 12,
   "metadata": {},
   "outputs": [
    {
     "name": "stdout",
     "output_type": "stream",
     "text": [
      "Parameter containing:\n",
      "tensor([964.4337], device='cuda:0', requires_grad=True)\n",
      "Parameter containing:\n",
      "tensor([34.9294], device='cuda:0', requires_grad=True)\n",
      "Parameter containing:\n",
      "tensor([-1491.9237], device='cuda:0', requires_grad=True)\n",
      "Parameter containing:\n",
      "tensor([63.4249], device='cuda:0', requires_grad=True)\n",
      "Parameter containing:\n",
      "tensor([10.0412], device='cuda:0', requires_grad=True)\n",
      "Parameter containing:\n",
      "tensor([64.5977], device='cuda:0', requires_grad=True)\n",
      "Accuracy with 250 training points on trained convnet was 25.2\n"
     ]
    }
   ],
   "source": [
    "for param in model_trained.parameters():\n",
    "    print(param)\n",
    "Y_pred_trained, k, t= KernelFlowsCNNGP.kernel_regression(X_test=X_test, X_train=X_train[:250], Y_train=Y_train[:250], kernel=model_trained, regularization_lambda=0.0001, blocksize=250)\n",
    "Y_pred_trained = np.argmax(Y_pred_trained.cpu(), axis=1)\n",
    "print(f\"\"\"Accuracy with 250 training points on trained convnet was {accuracy_score(Y_pred_trained, Y_test.cpu().numpy()) * 100}\"\"\")"
   ]
  },
  {
   "cell_type": "markdown",
   "metadata": {},
   "source": [
    "# Plotting Accuracy vs $N_I$"
   ]
  },
  {
   "cell_type": "code",
   "execution_count": 11,
   "metadata": {},
   "outputs": [
    {
     "name": "stderr",
     "output_type": "stream",
     "text": [
      "100%|██████████| 9/9 [04:59<00:00, 33.24s/it]\n"
     ]
    }
   ],
   "source": [
    "N_i_arr = np.arange(50, 500, 50)\n",
    "untrained_accuracy_list = []\n",
    "trained_accuracy_list = []\n",
    "    \n",
    "for ni in tqdm(N_i_arr):\n",
    "    X_train_batch = X_train[:ni]\n",
    "    Y_train_batch = Y_train[:ni]\n",
    "    Y_pred_untrained = KernelFlowsCNNGP.kernel_regression(X_test=X_test, X_train = X_train_batch, Y_train = Y_train_batch.to(torch.float32), kernel = model_untrained, blocksize=50)\n",
    "    Y_pred_untrained = np.argmax(Y_pred_untrained, axis=1)\n",
    "    untrained_accuracy_list.append(get_accuracy(Y_pred_untrained, Y_test.detach().numpy()))\n",
    "    Y_pred_trained = KernelFlowsCNNGP.kernel_regression(X_test=X_test, X_train = X_train_batch, Y_train = Y_train_batch.to(torch.float32), kernel = model_trained, blocksize=50)\n",
    "    Y_pred_trained = np.argmax(Y_pred_trained, axis=1)\n",
    "    trained_accuracy_list.append(get_accuracy(Y_pred_trained, Y_test.detach().numpy()))"
   ]
  },
  {
   "cell_type": "code",
   "execution_count": 12,
   "metadata": {},
   "outputs": [
    {
     "data": {
      "text/plain": [
       "[<matplotlib.lines.Line2D at 0x20372ac56d0>]"
      ]
     },
     "execution_count": 12,
     "metadata": {},
     "output_type": "execute_result"
    },
    {
     "data": {
      "image/png": "[encoded data removed]",
      "text/plain": [
       "<Figure size 432x288 with 1 Axes>"
      ]
     },
     "metadata": {
      "needs_background": "light"
     },
     "output_type": "display_data"
    }
   ],
   "source": [
    "plt.plot(N_i_arr, untrained_accuracy_list, '-o')\n",
    "plt.plot(N_i_arr, trained_accuracy_list, '-*')"
   ]
  },
  {
   "cell_type": "code",
   "execution_count": null,
   "metadata": {},
   "outputs": [],
   "source": [
    "Y_pred_untrained_blocked = KernelFlowsCNNGP.kernel_regression(X_test=X_test, X_train = X_train[:1000], Y_train = Y_train[:1000].to(torch.float32), kernel = model_untrained, blocksize=100)\n",
    "Y_pred_untrained_blocked = np.argmax(Y_pred_untrained_blocked, axis=1)\n",
    "accuracy_untrained_blocked = get_accuracy(Y_pred_untrained_blocked, Y_test.detach().numpy())\n",
    "print(\"The accuracy with training was: \", accuracy_untrained_blocked)"
   ]
  },
  {
   "cell_type": "markdown",
   "metadata": {},
   "source": []
  }
 ],
 "metadata": {
  "interpreter": {
   "hash": "5560e2172b95e28b8293055787c87daea64249c335af695411f7aef8e39d92bc"
  },
  "kernelspec": {
   "display_name": "Python 3.10.4 64-bit",
   "language": "python",
   "name": "python3"
  },
  "language_info": {
   "codemirror_mode": {
    "name": "ipython",
    "version": 3
   },
   "file_extension": ".py",
   "mimetype": "text/x-python",
   "name": "python",
   "nbconvert_exporter": "python",
   "pygments_lexer": "ipython3",
   "version": "3.10.4"
  },
  "orig_nbformat": 4
 },
 "nbformat": 4,
 "nbformat_minor": 2
}
