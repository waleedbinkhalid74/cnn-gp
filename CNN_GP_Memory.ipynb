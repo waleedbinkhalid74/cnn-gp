{
 "cells": [
  {
   "cell_type": "markdown",
   "metadata": {},
   "source": [
    "# Useful Imports"
   ]
  },
  {
   "cell_type": "code",
   "execution_count": 8,
   "metadata": {},
   "outputs": [
    {
     "name": "stdout",
     "output_type": "stream",
     "text": [
      "The autoreload extension is already loaded. To reload it, use:\n",
      "  %reload_ext autoreload\n"
     ]
    }
   ],
   "source": [
    "from KernelFlow import KernelFlowsCNNGP\n",
    "from torchvision import datasets, transforms\n",
    "import torch\n",
    "import torch.nn.functional as F\n",
    "import numpy as np\n",
    "from utils import get_accuracy\n",
    "import matplotlib.pyplot as plt\n",
    "from torchvision import datasets, transforms\n",
    "import torchvision.transforms as T\n",
    "from torch import nn\n",
    "import time\n",
    "from cnn_gp import Sequential, Conv2d, ReLU, resnet_block\n",
    "from tqdm import tqdm\n",
    "%load_ext autoreload\n",
    "%autoreload 2"
   ]
  },
  {
   "cell_type": "markdown",
   "metadata": {},
   "source": [
    "# Global parameters"
   ]
  },
  {
   "cell_type": "code",
   "execution_count": 3,
   "metadata": {},
   "outputs": [],
   "source": [
    "N_I = 200"
   ]
  },
  {
   "cell_type": "markdown",
   "metadata": {},
   "source": [
    "# Dataset"
   ]
  },
  {
   "cell_type": "code",
   "execution_count": 4,
   "metadata": {},
   "outputs": [],
   "source": [
    "transform = transforms.Compose([transforms.ToTensor(),\n",
    "                                T.Lambda(lambda x: torch.flatten(x)),\n",
    "                                T.Lambda(lambda x: nn.functional.normalize(x, p=2, dim=0)),\n",
    "                                T.Lambda(lambda x: torch.reshape(x, (28,28))),\n",
    "                                T.Lambda(lambda x: torch.unsqueeze(x, dim=0))\n",
    "                              ])\n",
    "\n",
    "batch_size = 10000\n",
    "val_size = 100\n",
    "\n",
    "# MNIST\n",
    "trainset = datasets.MNIST('MNIST_dataset/train', download=True, train=True, transform=transform)\n",
    "valset = datasets.MNIST('MNIST_dataset/val', download=True, train=False, transform=transform)\n",
    "trainloader = torch.utils.data.DataLoader(trainset, batch_size=batch_size, shuffle=False)\n",
    "valloader = torch.utils.data.DataLoader(valset, batch_size=val_size, shuffle=False)\n",
    "\n",
    "# Fashion MNIST\n",
    "# trainset = datasets.FashionMNIST('Fashion_MNIST_dataset/train', download=True, train=True, transform=transform)\n",
    "# valset = datasets.FashionMNIST('Fashion_MNIST_dataset/val', download=True, train=False, transform=transform)\n",
    "# trainloader = torch.utils.data.DataLoader(trainset, batch_size=batch_size, shuffle=False)\n",
    "# valloader = torch.utils.data.DataLoader(valset, batch_size=batch_size, shuffle=False)\n",
    "\n",
    "device = torch.device('cuda' if torch.cuda.is_available() else 'cpu')\n",
    "\n",
    "dataiter = iter(trainloader)\n",
    "X_train, Y_train = dataiter.next()\n",
    "# X_train = nn.functional.normalize(X_train, p=2)\n",
    "Y_train = F.one_hot(Y_train, 10)\n",
    "\n",
    "dataiter_val = iter(valloader)\n",
    "X_test, Y_test = dataiter_val.next()\n"
   ]
  },
  {
   "cell_type": "code",
   "execution_count": 5,
   "metadata": {},
   "outputs": [
    {
     "name": "stdout",
     "output_type": "stream",
     "text": [
      "torch.Size([1, 28, 28]) tensor(1.)\n"
     ]
    }
   ],
   "source": [
    "print(X_train[0].shape, torch.norm(X_train[0])) "
   ]
  },
  {
   "cell_type": "markdown",
   "metadata": {},
   "source": [
    "# Model"
   ]
  },
  {
   "cell_type": "code",
   "execution_count": 6,
   "metadata": {},
   "outputs": [],
   "source": [
    "model_untrained = Sequential(\n",
    "        Conv2d(kernel_size=3),\n",
    "        ReLU(),\n",
    "        Conv2d(kernel_size=3, stride=2),\n",
    "        ReLU(),\n",
    "        Conv2d(kernel_size=14, padding=0),  # equivalent to a dense layer\n",
    "        )"
   ]
  },
  {
   "cell_type": "markdown",
   "metadata": {},
   "source": [
    "# Pretraining Results"
   ]
  },
  {
   "cell_type": "code",
   "execution_count": 7,
   "metadata": {},
   "outputs": [
    {
     "name": "stdout",
     "output_type": "stream",
     "text": [
      "The accuracy with training was:  80.0\n"
     ]
    }
   ],
   "source": [
    "Y_pred_untrained = KernelFlowsCNNGP.kernel_regression(X_test=X_test, X_train = X_train[:500], Y_train = Y_train[:500].to(torch.float32), kernel = model_untrained)\n",
    "Y_pred_untrained = torch.argmax(Y_pred_untrained, axis=1)\n",
    "accuracy_untrained = get_accuracy(Y_pred_untrained.detach().numpy(), Y_test.detach().numpy())\n",
    "print(\"The accuracy with training was: \", accuracy_untrained)"
   ]
  },
  {
   "cell_type": "code",
   "execution_count": 9,
   "metadata": {},
   "outputs": [
    {
     "name": "stderr",
     "output_type": "stream",
     "text": [
      "100%|██████████| 7/7 [01:08<00:00,  9.80s/it]\n"
     ]
    }
   ],
   "source": [
    "N_i_arr = np.arange(50, 400, 50)\n",
    "untrained_accuracy_list = []\n",
    "\n",
    "for ni in tqdm(N_i_arr):\n",
    "    Y_pred_untrained = KernelFlowsCNNGP.kernel_regression(X_test=X_test, X_train = X_train[:ni], Y_train = Y_train[:ni].to(torch.float32), kernel = model_untrained)\n",
    "    Y_pred_untrained = torch.argmax(Y_pred_untrained, axis=1)\n",
    "    untrained_accuracy_list.append(get_accuracy(Y_pred_untrained.detach().numpy(), Y_test.detach().numpy()))"
   ]
  },
  {
   "cell_type": "code",
   "execution_count": 10,
   "metadata": {},
   "outputs": [
    {
     "data": {
      "text/plain": [
       "[<matplotlib.lines.Line2D at 0x161ba541b20>]"
      ]
     },
     "execution_count": 10,
     "metadata": {},
     "output_type": "execute_result"
    },
    {
     "data": {
      "image/png": "[encoded data removed]",
      "text/plain": [
       "<Figure size 432x288 with 1 Axes>"
      ]
     },
     "metadata": {
      "needs_background": "light"
     },
     "output_type": "display_data"
    }
   ],
   "source": [
    "plt.plot(N_i_arr, untrained_accuracy_list)"
   ]
  },
  {
   "cell_type": "markdown",
   "metadata": {},
   "source": [
    "# Training the model"
   ]
  },
  {
   "cell_type": "code",
   "execution_count": 11,
   "metadata": {},
   "outputs": [],
   "source": [
    "model_trained = Sequential(\n",
    "        Conv2d(kernel_size=3),\n",
    "        ReLU(),\n",
    "        Conv2d(kernel_size=3, stride=2),\n",
    "        ReLU(),\n",
    "        Conv2d(kernel_size=14, padding=0),  # equivalent to a dense layer\n",
    "        )\n",
    "\n"
   ]
  },
  {
   "cell_type": "code",
   "execution_count": 12,
   "metadata": {},
   "outputs": [
    {
     "data": {
      "text/plain": [
       "<All keys matched successfully>"
      ]
     },
     "execution_count": 12,
     "metadata": {},
     "output_type": "execute_result"
    }
   ],
   "source": [
    "model_trained.load_state_dict(torch.load('models/simple_1000_iter.pth'))"
   ]
  },
  {
   "cell_type": "code",
   "execution_count": 14,
   "metadata": {},
   "outputs": [
    {
     "name": "stderr",
     "output_type": "stream",
     "text": [
      "100%|██████████| 7/7 [00:52<00:00,  7.53s/it]\n"
     ]
    }
   ],
   "source": [
    "N_i_arr = np.arange(50, 400, 50)\n",
    "trained_accuracy_list = []\n",
    "\n",
    "for ni in tqdm(N_i_arr):\n",
    "    Y_pred_trained = KernelFlowsCNNGP.kernel_regression(X_test=X_test, X_train = X_train[:ni], Y_train = Y_train[:ni].to(torch.float32), kernel = model_trained)\n",
    "    Y_pred_trained = torch.argmax(Y_pred_trained, axis=1)\n",
    "    trained_accuracy_list.append(get_accuracy(Y_pred_trained.detach().numpy(), Y_test.detach().numpy()))"
   ]
  },
  {
   "cell_type": "code",
   "execution_count": 15,
   "metadata": {},
   "outputs": [
    {
     "data": {
      "text/plain": [
       "[<matplotlib.lines.Line2D at 0x161bcc59eb0>]"
      ]
     },
     "execution_count": 15,
     "metadata": {},
     "output_type": "execute_result"
    },
    {
     "data": {
      "image/png": "[encoded data removed]",
      "text/plain": [
       "<Figure size 432x288 with 1 Axes>"
      ]
     },
     "metadata": {
      "needs_background": "light"
     },
     "output_type": "display_data"
    }
   ],
   "source": [
    "plt.plot(N_i_arr, untrained_accuracy_list, '-o')\n",
    "plt.plot(N_i_arr, trained_accuracy_list, '-*')"
   ]
  },
  {
   "cell_type": "markdown",
   "metadata": {},
   "source": []
  }
 ],
 "metadata": {
  "interpreter": {
   "hash": "3ef59ab840202541f11ac4f792cd996e171462c24b82d18bf47eb5b8c5b92abd"
  },
  "kernelspec": {
   "display_name": "Python 3.9.12 64-bit (windows store)",
   "language": "python",
   "name": "python3"
  },
  "language_info": {
   "codemirror_mode": {
    "name": "ipython",
    "version": 3
   },
   "file_extension": ".py",
   "mimetype": "text/x-python",
   "name": "python",
   "nbconvert_exporter": "python",
   "pygments_lexer": "ipython3",
   "version": "3.9.12"
  },
  "orig_nbformat": 4
 },
 "nbformat": 4,
 "nbformat_minor": 2
}
